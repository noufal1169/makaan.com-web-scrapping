{
  "nbformat": 4,
  "nbformat_minor": 0,
  "metadata": {
    "colab": {
      "name": "Makaan.com Real Estate .ipynb",
      "provenance": [],
      "collapsed_sections": [],
      "authorship_tag": "ABX9TyMFAg7+Vwmo59A1hBcA0gxJ",
      "include_colab_link": true
    },
    "kernelspec": {
      "name": "python3",
      "display_name": "Python 3"
    },
    "language_info": {
      "name": "python"
    }
  },
  "cells": [
    {
      "cell_type": "markdown",
      "metadata": {
        "id": "view-in-github",
        "colab_type": "text"
      },
      "source": [
        "<a href=\"https://colab.research.google.com/github/noufal1169/makaan.com-web-scrapping/blob/main/Makaan_com_Real_Estate_.ipynb\" target=\"_parent\"><img src=\"https://colab.research.google.com/assets/colab-badge.svg\" alt=\"Open In Colab\"/></a>"
      ]
    },
    {
      "cell_type": "markdown",
      "metadata": {
        "id": "FL8T7i35kceW"
      },
      "source": [
        "Importing all the needed modules"
      ]
    },
    {
      "cell_type": "code",
      "metadata": {
        "id": "bG9_uqByTaSd"
      },
      "source": [
        "import requests\n",
        "from bs4 import BeautifulSoup\n",
        "import pandas as pd\n",
        "import time"
      ],
      "execution_count": 1,
      "outputs": []
    },
    {
      "cell_type": "markdown",
      "metadata": {
        "id": "9r3Y8t8VkkSW"
      },
      "source": [
        "Base url of the web page"
      ]
    },
    {
      "cell_type": "code",
      "metadata": {
        "id": "ZHxGQWQxTdRt"
      },
      "source": [
        "base_url = 'https://www.makaan.com/hyderabad-residential-property/buy-property-in-hyderabad-city?page='"
      ],
      "execution_count": 2,
      "outputs": []
    },
    {
      "cell_type": "code",
      "metadata": {
        "id": "qK33iGMaTgPE"
      },
      "source": [
        "ow = []\n",
        "bhk = []\n",
        "p = []\n",
        "s = []\n",
        "loc = []\n",
        "st = []\n",
        "pps = []"
      ],
      "execution_count": 3,
      "outputs": []
    },
    {
      "cell_type": "code",
      "metadata": {
        "id": "CfP1GhIqTrHQ"
      },
      "source": [
        "for i in range(1,51):\n",
        "  time.sleep(3)   # to give a pause between each requests\n",
        "  url = base_url+str(i)\n",
        "  req = requests.get(url)\n",
        "  soup = BeautifulSoup(req.text,'html')\n",
        "\n",
        "  #owner info\n",
        "  ow_info = soup.findAll('span',attrs={'class':'seller-type'})\n",
        "  for j in ow_info:\n",
        "    ow.append(j.text)\n",
        "  \n",
        "  #bhk info\n",
        "  bhk_info = soup.findAll('div',attrs={'class':'title-line'})\n",
        "  for j in bhk_info:\n",
        "    bhk.append(j.strong.span.text)\n",
        "\n",
        "  #price info\n",
        "  p_info = soup.findAll('div',attrs={'data-type':'price-link'})\n",
        "  for  j in p_info:\n",
        "    p.append(j.text)\n",
        "  \n",
        "  #size info\n",
        "  s_info = soup.findAll(\"td\",attrs={'class':'size'})\n",
        "  for j in s_info:\n",
        "    s.append(j.text)\n",
        "  \n",
        "  #location info\n",
        "  loc_info = soup.findAll('span',attrs={'itemprop':'addressLocality'})\n",
        "  for j in loc_info:\n",
        "    loc.append(j.text)\n",
        "  \n",
        "  #status info\n",
        "  st_info = soup.findAll('tr',attrs={'class':'hcol w44'})\n",
        "  for j in st_info:\n",
        "    st.append(j.text)\n",
        "\n",
        "  #price per sqft info\n",
        "  pps_info = soup.findAll('td',attrs={'class':'lbl rate'})\n",
        "  for j in pps_info:\n",
        "    pps.append(j.text)"
      ],
      "execution_count": 4,
      "outputs": []
    },
    {
      "cell_type": "markdown",
      "metadata": {
        "id": "_HZcsSX0k-kv"
      },
      "source": [
        "To make a data frame,\n",
        "  Cross checking the number of data for each columns are same."
      ]
    },
    {
      "cell_type": "code",
      "metadata": {
        "colab": {
          "base_uri": "https://localhost:8080/"
        },
        "id": "WmMiWI_8Tr9a",
        "outputId": "719f94d5-8ef0-4a7e-ab0d-62aa9825a4fc"
      },
      "source": [
        "print('ow = ',len(ow))\n",
        "print('bhk = ',len(bhk))\n",
        "print('p = ',len(p))\n",
        "print('s = ',len(s))\n",
        "print('loc = ',len(loc))\n",
        "print('st = ',len(st))\n",
        "print('pps = ',len(pps))"
      ],
      "execution_count": 5,
      "outputs": [
        {
          "output_type": "stream",
          "text": [
            "ow =  1000\n",
            "bhk =  1000\n",
            "p =  1000\n",
            "s =  1000\n",
            "loc =  1000\n",
            "st =  1000\n",
            "pps =  1000\n"
          ],
          "name": "stdout"
        }
      ]
    },
    {
      "cell_type": "markdown",
      "metadata": {
        "id": "892B0QMElg4D"
      },
      "source": [
        "Making a data frame in tabular form using pandas"
      ]
    },
    {
      "cell_type": "code",
      "metadata": {
        "colab": {
          "base_uri": "https://localhost:8080/",
          "height": 419
        },
        "id": "SzH2MBOhTyId",
        "outputId": "990e50cd-257e-45f8-ae33-f2d57e4d6c7a"
      },
      "source": [
        "data = pd.DataFrame({'OWNER INFO':ow,\n",
        "                     'BHK':bhk,\n",
        "                     'PRICE':p,\n",
        "                     'SIZE':s,\n",
        "                     'LOCATION':loc,\n",
        "                     'STATUS':st,\n",
        "                     'PRICE PER SQ.FT':pps})\n",
        "data "
      ],
      "execution_count": 6,
      "outputs": [
        {
          "output_type": "execute_result",
          "data": {
            "text/html": [
              "<div>\n",
              "<style scoped>\n",
              "    .dataframe tbody tr th:only-of-type {\n",
              "        vertical-align: middle;\n",
              "    }\n",
              "\n",
              "    .dataframe tbody tr th {\n",
              "        vertical-align: top;\n",
              "    }\n",
              "\n",
              "    .dataframe thead th {\n",
              "        text-align: right;\n",
              "    }\n",
              "</style>\n",
              "<table border=\"1\" class=\"dataframe\">\n",
              "  <thead>\n",
              "    <tr style=\"text-align: right;\">\n",
              "      <th></th>\n",
              "      <th>OWNER INFO</th>\n",
              "      <th>BHK</th>\n",
              "      <th>PRICE</th>\n",
              "      <th>SIZE</th>\n",
              "      <th>LOCATION</th>\n",
              "      <th>STATUS</th>\n",
              "      <th>PRICE PER SQ.FT</th>\n",
              "    </tr>\n",
              "  </thead>\n",
              "  <tbody>\n",
              "    <tr>\n",
              "      <th>0</th>\n",
              "      <td>BUILDER</td>\n",
              "      <td>3</td>\n",
              "      <td>1.6 Cr</td>\n",
              "      <td>2810</td>\n",
              "      <td>Manikonda</td>\n",
              "      <td>Under ConstructionConstruction Status</td>\n",
              "      <td>5,699 / sq ft</td>\n",
              "    </tr>\n",
              "    <tr>\n",
              "      <th>1</th>\n",
              "      <td>BUILDER</td>\n",
              "      <td>2</td>\n",
              "      <td>1.43 Cr</td>\n",
              "      <td>1495</td>\n",
              "      <td>Shaikpet</td>\n",
              "      <td>Ready to moveConstruction Status</td>\n",
              "      <td>9,565 / sq ft</td>\n",
              "    </tr>\n",
              "    <tr>\n",
              "      <th>2</th>\n",
              "      <td>BUILDER</td>\n",
              "      <td>2</td>\n",
              "      <td>56.98 L</td>\n",
              "      <td>1295</td>\n",
              "      <td>Bachupally</td>\n",
              "      <td>Under ConstructionConstruction Status</td>\n",
              "      <td>4,400 / sq ft</td>\n",
              "    </tr>\n",
              "    <tr>\n",
              "      <th>3</th>\n",
              "      <td>BUILDER</td>\n",
              "      <td>2</td>\n",
              "      <td>43.6 L</td>\n",
              "      <td>890</td>\n",
              "      <td>Shamshabad</td>\n",
              "      <td>Under ConstructionConstruction Status</td>\n",
              "      <td>4,899 / sq ft</td>\n",
              "    </tr>\n",
              "    <tr>\n",
              "      <th>4</th>\n",
              "      <td>BUILDER</td>\n",
              "      <td>3</td>\n",
              "      <td>65.82 L</td>\n",
              "      <td>1431</td>\n",
              "      <td>Tellapur</td>\n",
              "      <td>Under ConstructionConstruction Status</td>\n",
              "      <td>4,600 / sq ft</td>\n",
              "    </tr>\n",
              "    <tr>\n",
              "      <th>...</th>\n",
              "      <td>...</td>\n",
              "      <td>...</td>\n",
              "      <td>...</td>\n",
              "      <td>...</td>\n",
              "      <td>...</td>\n",
              "      <td>...</td>\n",
              "      <td>...</td>\n",
              "    </tr>\n",
              "    <tr>\n",
              "      <th>995</th>\n",
              "      <td>OWNER</td>\n",
              "      <td>3</td>\n",
              "      <td>1.08 Cr</td>\n",
              "      <td>1800</td>\n",
              "      <td>Kukatpally</td>\n",
              "      <td>Ready to moveConstruction Status</td>\n",
              "      <td>6,000 / sq ft</td>\n",
              "    </tr>\n",
              "    <tr>\n",
              "      <th>996</th>\n",
              "      <td>OWNER</td>\n",
              "      <td>3</td>\n",
              "      <td>1.08 Cr</td>\n",
              "      <td>1800</td>\n",
              "      <td>Kukatpally</td>\n",
              "      <td>Ready to moveConstruction Status</td>\n",
              "      <td>6,000 / sq ft</td>\n",
              "    </tr>\n",
              "    <tr>\n",
              "      <th>997</th>\n",
              "      <td>OWNER</td>\n",
              "      <td>3</td>\n",
              "      <td>1.08 Cr</td>\n",
              "      <td>1800</td>\n",
              "      <td>Kukatpally</td>\n",
              "      <td>Ready to moveConstruction Status</td>\n",
              "      <td>6,000 / sq ft</td>\n",
              "    </tr>\n",
              "    <tr>\n",
              "      <th>998</th>\n",
              "      <td>OWNER</td>\n",
              "      <td>2</td>\n",
              "      <td>72 L</td>\n",
              "      <td>1185</td>\n",
              "      <td>Kondapur</td>\n",
              "      <td>Ready to moveConstruction Status</td>\n",
              "      <td>6,075 / sq ft</td>\n",
              "    </tr>\n",
              "    <tr>\n",
              "      <th>999</th>\n",
              "      <td>OWNER</td>\n",
              "      <td>3</td>\n",
              "      <td>4.1 Cr</td>\n",
              "      <td>3200</td>\n",
              "      <td>Film Nagar</td>\n",
              "      <td>Under ConstructionConstruction Status</td>\n",
              "      <td>12,812 / sq ft</td>\n",
              "    </tr>\n",
              "  </tbody>\n",
              "</table>\n",
              "<p>1000 rows × 7 columns</p>\n",
              "</div>"
            ],
            "text/plain": [
              "    OWNER INFO BHK  ...                                 STATUS PRICE PER SQ.FT\n",
              "0      BUILDER  3   ...  Under ConstructionConstruction Status   5,699 / sq ft\n",
              "1      BUILDER  2   ...       Ready to moveConstruction Status   9,565 / sq ft\n",
              "2      BUILDER  2   ...  Under ConstructionConstruction Status   4,400 / sq ft\n",
              "3      BUILDER  2   ...  Under ConstructionConstruction Status   4,899 / sq ft\n",
              "4      BUILDER  3   ...  Under ConstructionConstruction Status   4,600 / sq ft\n",
              "..         ...  ..  ...                                    ...             ...\n",
              "995      OWNER  3   ...       Ready to moveConstruction Status   6,000 / sq ft\n",
              "996      OWNER  3   ...       Ready to moveConstruction Status   6,000 / sq ft\n",
              "997      OWNER  3   ...       Ready to moveConstruction Status   6,000 / sq ft\n",
              "998      OWNER  2   ...       Ready to moveConstruction Status   6,075 / sq ft\n",
              "999      OWNER  3   ...  Under ConstructionConstruction Status  12,812 / sq ft\n",
              "\n",
              "[1000 rows x 7 columns]"
            ]
          },
          "metadata": {
            "tags": []
          },
          "execution_count": 6
        }
      ]
    },
    {
      "cell_type": "markdown",
      "metadata": {
        "id": "N6SoJHiVlw6U"
      },
      "source": [
        "Creating a csv file of the collected data"
      ]
    },
    {
      "cell_type": "code",
      "metadata": {
        "id": "DI7TukRvV06Z"
      },
      "source": [
        "data.to_csv('50 page apartment details.csv',index=False)"
      ],
      "execution_count": 7,
      "outputs": []
    },
    {
      "cell_type": "code",
      "metadata": {
        "id": "x8MPKljZcljd"
      },
      "source": [
        ""
      ],
      "execution_count": null,
      "outputs": []
    }
  ]
}